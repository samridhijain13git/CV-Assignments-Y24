{
  "cells": [
    {
      "cell_type": "markdown",
      "metadata": {
        "id": "UOzd0zRXW5Uv"
      },
      "source": []
    },
    {
      "cell_type": "markdown",
      "metadata": {
        "id": "2XFUXyq9Y9TG"
      },
      "source": [
        "# Section 0 : Importing Libraries"
      ]
    },
    {
      "cell_type": "markdown",
      "metadata": {
        "id": "D_bzcLusjSO0"
      },
      "source": [
        "*Let's begin by importing numpy, pandas and matplotlib.*"
      ]
    },
    {
      "cell_type": "code",
      "execution_count": 1,
      "metadata": {
        "id": "jdwX7bI7aGeY"
      },
      "outputs": [],
      "source": [
        "import numpy as np\n",
        "import pandas as pd\n",
        "import matplotlib.pyplot as plt"
      ]
    },
    {
      "cell_type": "markdown",
      "metadata": {
        "id": "LM25mz5ta-Q_"
      },
      "source": [
        "# Section 1 : Playing with Python and Numpy"
      ]
    },
    {
      "cell_type": "markdown",
      "metadata": {
        "id": "TcFQVqhAdQw_"
      },
      "source": [
        "### Q1. Matrix Multiplication"
      ]
    },
    {
      "cell_type": "markdown",
      "metadata": {
        "id": "6Dcai9pys0j8"
      },
      "source": [
        "##### (i) Check if matrix multiplication is valid"
      ]
    },
    {
      "cell_type": "code",
      "execution_count": null,
      "metadata": {
        "id": "0qC4txIss3gG"
      },
      "outputs": [],
      "source": [
        "def isValid(A,B):\n",
        "  return len(A[0])==len(B)"
      ]
    },
    {
      "cell_type": "markdown",
      "metadata": {
        "id": "OPTfRGlTdXxa"
      },
      "source": [
        "##### (ii) Using loops (without using numpy)"
      ]
    },
    {
      "cell_type": "code",
      "execution_count": null,
      "metadata": {
        "id": "V8F5ETsRct3S"
      },
      "outputs": [],
      "source": [
        "def matrix_multiply(A,B):\n",
        "  C=[]\n",
        "  for p in range(len(A)):\n",
        "    row=[]\n",
        "    for q in range(len(B[0])):\n",
        "      row.append(0)\n",
        "    C.append(row)\n",
        "  Alist=A.tolist()\n",
        "  Blist=B.tolist()\n",
        "  for i in range(len(A)):\n",
        "    for j in range(len(B[0])):\n",
        "      for k in range(len(A[0])):\n",
        "        C[i][j]+=Alist[i][k]*Blist[k][j]\n",
        "  return C"
      ]
    },
    {
      "cell_type": "markdown",
      "metadata": {
        "id": "umUgUTSWdos8"
      },
      "source": [
        "##### (iii) Using numpy"
      ]
    },
    {
      "cell_type": "code",
      "execution_count": null,
      "metadata": {
        "id": "-tdXlCHrduBP"
      },
      "outputs": [],
      "source": [
        "def matrix_multiply_2(A,B):\n",
        "  return np.matmul(A,B)"
      ]
    },
    {
      "cell_type": "markdown",
      "metadata": {
        "id": "2nMFnl84edJG"
      },
      "source": [
        "##### (iv) Testing your code\n",
        "\n",
        "Run the following cell to check if your functions are working properly.\n",
        "\n",
        "*Expected output:*\n",
        "[ [102 108 114]\n",
        " [246 261 276]\n",
        " [390 414 438]\n",
        " [534 567 600] ]"
      ]
    },
    {
      "cell_type": "code",
      "execution_count": null,
      "metadata": {
        "id": "09rX_Cm9ezmq",
        "colab": {
          "base_uri": "https://localhost:8080/"
        },
        "outputId": "81bd6832-da5a-423d-9a14-a82fef8707fa"
      },
      "outputs": [
        {
          "output_type": "stream",
          "name": "stdout",
          "text": [
            "Result using loops: [[102, 108, 114], [246, 261, 276], [390, 414, 438], [534, 567, 600]]\n",
            "Result using numpy: [[102 108 114]\n",
            " [246 261 276]\n",
            " [390 414 438]\n",
            " [534 567 600]]\n"
          ]
        }
      ],
      "source": [
        "A = np.array([\n",
        "    [1, 2, 3],\n",
        "    [4, 5, 6],\n",
        "    [7, 8, 9],\n",
        "    [10, 11, 12]\n",
        "])\n",
        "\n",
        "B = np.array([\n",
        "    [13, 14, 15],\n",
        "    [16, 17, 18],\n",
        "    [19, 20, 21]\n",
        "])\n",
        "\n",
        "if isValid(A,B):\n",
        "  print(f\"Result using loops: {matrix_multiply(A,B)}\")\n",
        "  print(f\"Result using numpy: {matrix_multiply_2(A,B)}\")\n",
        "else:\n",
        "  print(f\"Matrix multiplication is not valid\")"
      ]
    },
    {
      "cell_type": "markdown",
      "metadata": {
        "id": "5hfP7Ao1fwqV"
      },
      "source": [
        "### Q2. Z-Score Normalisation"
      ]
    },
    {
      "cell_type": "markdown",
      "metadata": {
        "id": "0e81Xx5Kw_CQ"
      },
      "source": [
        "Z-score normalization refers to the process of normalizing every value in a dataset such that the mean of all of the values is 0 and the standard deviation is 1.\n",
        "\n",
        "We use the following formula to perform a z-score normalization on every value in a dataset:\n",
        "\n",
        "New value = (x – μ) / σ\n",
        "\n",
        "where:\n",
        "\n",
        "x: Original value\n",
        "\n",
        "μ: Mean of data\n",
        "\n",
        "σ: Standard deviation of data"
      ]
    },
    {
      "cell_type": "markdown",
      "metadata": {
        "id": "GP_MuyUbguSR"
      },
      "source": [
        "##### (i) Without using numpy"
      ]
    },
    {
      "cell_type": "code",
      "execution_count": null,
      "metadata": {
        "id": "0vix8qaaghwP"
      },
      "outputs": [],
      "source": [
        "def mean(x):\n",
        "  sum=0\n",
        "  for i in range(len(x)):\n",
        "    sum+=x[i]\n",
        "  return sum/len(x)"
      ]
    },
    {
      "cell_type": "code",
      "execution_count": null,
      "metadata": {
        "id": "j1qabel-g_f5"
      },
      "outputs": [],
      "source": [
        "def standard_deviation(x):\n",
        "  s=0\n",
        "  y=mean(x)\n",
        "  for i in range(len(x)):\n",
        "    s+=(x[i]-y)**2\n",
        "  return (s/len(x))**0.5"
      ]
    },
    {
      "cell_type": "code",
      "execution_count": null,
      "metadata": {
        "id": "797ewbNqhEpY"
      },
      "outputs": [],
      "source": [
        "def zscore_normalisation(x):\n",
        "  y=mean(x)\n",
        "  z=standard_deviation(x)\n",
        "  for i in range(len(x)):\n",
        "    x[i]=(x[i]-y)/z\n",
        "  return x"
      ]
    },
    {
      "cell_type": "markdown",
      "metadata": {
        "id": "k8dq1wqRhbUB"
      },
      "source": [
        "##### (ii) Using numpy\n",
        "\n",
        "Numpy has in_built functions for calculating mean and standard deviation"
      ]
    },
    {
      "cell_type": "code",
      "source": [
        "import numpy as np"
      ],
      "metadata": {
        "id": "Y9JZKqJBJo-5"
      },
      "execution_count": null,
      "outputs": []
    },
    {
      "cell_type": "code",
      "execution_count": null,
      "metadata": {
        "id": "WjxJTUDihsYg"
      },
      "outputs": [],
      "source": [
        "def zscore_normalisation_2(x):\n",
        "  return (x-np.mean(x))/np.std(x)"
      ]
    },
    {
      "cell_type": "markdown",
      "metadata": {
        "id": "glRqKU-_1pue"
      },
      "source": [
        "##### (iii) Testing your code"
      ]
    },
    {
      "cell_type": "markdown",
      "metadata": {
        "id": "Kl7XBymOigCU"
      },
      "source": [
        "Run the following cell to check if your functions are working properly.\n",
        "\n",
        "*Expected Output:* [-1.06753267 -0.99745394 -0.99745394 -0.81057732 -0.41346451 -0.06307086\n",
        "  0.31068237  0.91803138  1.22170588  1.89913361]"
      ]
    },
    {
      "cell_type": "code",
      "execution_count": null,
      "metadata": {
        "id": "78ptZxf6ipZp",
        "colab": {
          "base_uri": "https://localhost:8080/"
        },
        "outputId": "8cc37731-ebff-4fc5-d181-49541cfe7f38"
      },
      "outputs": [
        {
          "output_type": "stream",
          "name": "stdout",
          "text": [
            "Result without using numpy: [-1.0675326683028088, -0.9974539373420117, -0.9974539373420117, -0.8105773214465528, -0.41346451266870277, -0.06307085786471743, 0.3106823739262003, 0.9180313755864415, 1.2217058764165623, 1.8991336090376005]\n",
            "Result using numpy: [-1.06753267 -0.99745394 -0.99745394 -0.81057732 -0.41346451 -0.06307086\n",
            "  0.31068237  0.91803138  1.22170588  1.89913361]\n"
          ]
        }
      ],
      "source": [
        "x = [4, 7, 7, 15, 32, 47, 63, 89, 102, 131]\n",
        "print(f\"Result without using numpy: {zscore_normalisation(x)}\")\n",
        "print(f\"Result using numpy: {zscore_normalisation_2(x)}\")"
      ]
    },
    {
      "cell_type": "markdown",
      "metadata": {
        "id": "0WVscJ0z14rp"
      },
      "source": [
        "### Q3. Sigmoid fn and its derivative"
      ]
    },
    {
      "cell_type": "markdown",
      "metadata": {
        "id": "Jfntb0Rg94Tu"
      },
      "source": [
        "The sigmoid function is a mathematical function that maps any input value to a value between 0 and 1.\n",
        "\n",
        "It is defined mathematically as s(x) = 1/(1+e^(-x))."
      ]
    },
    {
      "cell_type": "markdown",
      "metadata": {
        "id": "8SCAPkjO2m7u"
      },
      "source": [
        "##### (i) Write a fn to implement sigmoid fn"
      ]
    },
    {
      "cell_type": "code",
      "execution_count": null,
      "metadata": {
        "id": "jL_TRQFG2l5m"
      },
      "outputs": [],
      "source": [
        "def sigmoidfn(x):\n",
        "  y=np.zeros((len(x),len(x[0])))\n",
        "  for i in range(len(x)):\n",
        "    for j in range(len(x[0])):\n",
        "      y[i][j]=1/(1+np.exp(-x[i][j]))\n",
        "  return y"
      ]
    },
    {
      "cell_type": "markdown",
      "metadata": {
        "id": "t7KBbl7N3AUM"
      },
      "source": [
        "##### (ii) Write a fn to implement derivative of sigmoid fn"
      ]
    },
    {
      "cell_type": "code",
      "execution_count": null,
      "metadata": {
        "id": "okjuOpba3KOJ"
      },
      "outputs": [],
      "source": [
        "def derivative(x):\n",
        "  z=np.zeros((len(x),len(x[0])))\n",
        "  for i in range(len(x)):\n",
        "    for j in range(len(x[0])):\n",
        "      z[i][j]=np.exp(-x[i][j])/(1+np.exp(-x[i][j]))**2\n",
        "  return z"
      ]
    },
    {
      "cell_type": "markdown",
      "metadata": {
        "id": "NdGTSpsp3mwr"
      },
      "source": [
        "##### (iii) Test your code"
      ]
    },
    {
      "cell_type": "markdown",
      "metadata": {
        "id": "lWY8RBex7gnd"
      },
      "source": [
        "Run the following cell to check if your functions are working properly.\n",
        "\n",
        "*Expected output:*\n",
        "\n",
        "x on applying sigmoid activation fn is: [ [0.99987661 0.88079708 0.99330715 0.5        0.5       ]\n",
        " [0.99908895 0.99330715 0.5        0.5        0.5       ] ]\n",
        "\n",
        "x on applying derivative of sigmoid activation fn is: [ [-1.23379350e-04 -1.04993585e-01 -6.64805667e-03 -2.50000000e-01\n",
        "  -2.50000000e-01]\n",
        " [-9.10221180e-04 -6.64805667e-03 -2.50000000e-01 -2.50000000e-01\n",
        "  -2.50000000e-01] ]"
      ]
    },
    {
      "cell_type": "code",
      "execution_count": null,
      "metadata": {
        "id": "ssDGpmS33vdA",
        "colab": {
          "base_uri": "https://localhost:8080/"
        },
        "outputId": "d0925d30-7347-4473-ac6d-72391046aafd"
      },
      "outputs": [
        {
          "output_type": "stream",
          "name": "stdout",
          "text": [
            "x on applying sigmoid activation fn is: [[0.99987661 0.88079708 0.99330715 0.5        0.5       ]\n",
            " [0.99908895 0.99330715 0.5        0.5        0.5       ]]\n",
            "x on applying derivative of sigmoid activation fn is: [[1.23379350e-04 1.04993585e-01 6.64805667e-03 2.50000000e-01\n",
            "  2.50000000e-01]\n",
            " [9.10221180e-04 6.64805667e-03 2.50000000e-01 2.50000000e-01\n",
            "  2.50000000e-01]]\n"
          ]
        }
      ],
      "source": [
        "x = np.array([\n",
        "    [9,2,5,0,0],\n",
        "    [7,5,0,0,0]\n",
        "])\n",
        "print(f\"x on applying sigmoid activation fn is: {sigmoidfn(x)}\")\n",
        "print(f\"x on applying derivative of sigmoid activation fn is: {derivative(x)}\")"
      ]
    },
    {
      "cell_type": "markdown",
      "metadata": {
        "id": "PMa0cseyZpa1"
      },
      "source": [
        "# Section 2: Exploring Pandas"
      ]
    },
    {
      "cell_type": "markdown",
      "metadata": {
        "id": "jkqPILFcjz1P"
      },
      "source": [
        "*You have been provided with a dataset which includes information about properties of superheated vapor.*\n",
        "\n",
        "*The dataset consists of the thermophysical properties: specific volume, specific internal energy, specific enthalpy, specific entropy of superheated vapor.*\n",
        "\n",
        "*Pressure is in kPa and Temperature in centigrade. In the dataframe 75, 100, 125, etc. are temperatures.*"
      ]
    },
    {
      "cell_type": "markdown",
      "metadata": {
        "id": "i5Okb_jxZ_VW"
      },
      "source": [
        "### Read the csv file\n"
      ]
    },
    {
      "cell_type": "code",
      "execution_count": 2,
      "metadata": {
        "id": "aQgvyavrcM1l"
      },
      "outputs": [],
      "source": [
        "df=pd.read_csv('superheated_vapor_properties.csv')"
      ]
    },
    {
      "cell_type": "markdown",
      "metadata": {
        "id": "Zp8F3rk2cNxy"
      },
      "source": [
        "### Display the shape of data frame\n"
      ]
    },
    {
      "cell_type": "code",
      "execution_count": 3,
      "metadata": {
        "id": "v3Q8kQkucgK0",
        "colab": {
          "base_uri": "https://localhost:8080/"
        },
        "outputId": "be38684d-90a5-484d-d272-c40d61801d2d"
      },
      "outputs": [
        {
          "output_type": "execute_result",
          "data": {
            "text/plain": [
              "(544, 37)"
            ]
          },
          "metadata": {},
          "execution_count": 3
        }
      ],
      "source": [
        "df.shape"
      ]
    },
    {
      "cell_type": "markdown",
      "metadata": {
        "id": "w49cp-8zcgd2"
      },
      "source": [
        "### Return an array containing names of all the columns"
      ]
    },
    {
      "cell_type": "code",
      "execution_count": 4,
      "metadata": {
        "id": "fz4HRb3JcsZp",
        "colab": {
          "base_uri": "https://localhost:8080/"
        },
        "outputId": "2154462b-ac62-4101-f5ab-492b185821b4"
      },
      "outputs": [
        {
          "output_type": "execute_result",
          "data": {
            "text/plain": [
              "array(['Pressure', 'Property', 'Liq_Sat', 'Vap_Sat', '75', '100', '125',\n",
              "       '150', '175', '200', '220', '225', '240', '250', '260', '275',\n",
              "       '280', '290', '300', '320', '325', '340', '350', '360', '375',\n",
              "       '380', '400', '425', '450', '475', '500', '525', '550', '575',\n",
              "       '600', '625', '650'], dtype=object)"
            ]
          },
          "metadata": {},
          "execution_count": 4
        }
      ],
      "source": [
        "df.columns.to_numpy()"
      ]
    },
    {
      "cell_type": "markdown",
      "metadata": {
        "id": "YkTH9tRWcrH-"
      },
      "source": [
        "### Display the number of null values in each column of the dataframe\n",
        "\n"
      ]
    },
    {
      "cell_type": "code",
      "execution_count": 5,
      "metadata": {
        "id": "GK9-PJPxc3Ot",
        "colab": {
          "base_uri": "https://localhost:8080/",
          "height": 1000
        },
        "outputId": "2a9d326f-0178-46aa-af88-068d426a122a"
      },
      "outputs": [
        {
          "output_type": "execute_result",
          "data": {
            "text/plain": [
              "Pressure      0\n",
              "Property      0\n",
              "Liq_Sat       0\n",
              "Vap_Sat       0\n",
              "75          528\n",
              "100         508\n",
              "125         488\n",
              "150         448\n",
              "175         384\n",
              "200         320\n",
              "220         408\n",
              "225         400\n",
              "240         408\n",
              "250         344\n",
              "260         384\n",
              "275         340\n",
              "280         380\n",
              "290         488\n",
              "300          60\n",
              "320         480\n",
              "325         136\n",
              "340         476\n",
              "350          68\n",
              "360         476\n",
              "375         204\n",
              "380         476\n",
              "400           0\n",
              "425         204\n",
              "450           0\n",
              "475         204\n",
              "500           0\n",
              "525         272\n",
              "550           0\n",
              "575         340\n",
              "600           0\n",
              "625         476\n",
              "650           0\n",
              "dtype: int64"
            ],
            "text/html": [
              "<div>\n",
              "<style scoped>\n",
              "    .dataframe tbody tr th:only-of-type {\n",
              "        vertical-align: middle;\n",
              "    }\n",
              "\n",
              "    .dataframe tbody tr th {\n",
              "        vertical-align: top;\n",
              "    }\n",
              "\n",
              "    .dataframe thead th {\n",
              "        text-align: right;\n",
              "    }\n",
              "</style>\n",
              "<table border=\"1\" class=\"dataframe\">\n",
              "  <thead>\n",
              "    <tr style=\"text-align: right;\">\n",
              "      <th></th>\n",
              "      <th>0</th>\n",
              "    </tr>\n",
              "  </thead>\n",
              "  <tbody>\n",
              "    <tr>\n",
              "      <th>Pressure</th>\n",
              "      <td>0</td>\n",
              "    </tr>\n",
              "    <tr>\n",
              "      <th>Property</th>\n",
              "      <td>0</td>\n",
              "    </tr>\n",
              "    <tr>\n",
              "      <th>Liq_Sat</th>\n",
              "      <td>0</td>\n",
              "    </tr>\n",
              "    <tr>\n",
              "      <th>Vap_Sat</th>\n",
              "      <td>0</td>\n",
              "    </tr>\n",
              "    <tr>\n",
              "      <th>75</th>\n",
              "      <td>528</td>\n",
              "    </tr>\n",
              "    <tr>\n",
              "      <th>100</th>\n",
              "      <td>508</td>\n",
              "    </tr>\n",
              "    <tr>\n",
              "      <th>125</th>\n",
              "      <td>488</td>\n",
              "    </tr>\n",
              "    <tr>\n",
              "      <th>150</th>\n",
              "      <td>448</td>\n",
              "    </tr>\n",
              "    <tr>\n",
              "      <th>175</th>\n",
              "      <td>384</td>\n",
              "    </tr>\n",
              "    <tr>\n",
              "      <th>200</th>\n",
              "      <td>320</td>\n",
              "    </tr>\n",
              "    <tr>\n",
              "      <th>220</th>\n",
              "      <td>408</td>\n",
              "    </tr>\n",
              "    <tr>\n",
              "      <th>225</th>\n",
              "      <td>400</td>\n",
              "    </tr>\n",
              "    <tr>\n",
              "      <th>240</th>\n",
              "      <td>408</td>\n",
              "    </tr>\n",
              "    <tr>\n",
              "      <th>250</th>\n",
              "      <td>344</td>\n",
              "    </tr>\n",
              "    <tr>\n",
              "      <th>260</th>\n",
              "      <td>384</td>\n",
              "    </tr>\n",
              "    <tr>\n",
              "      <th>275</th>\n",
              "      <td>340</td>\n",
              "    </tr>\n",
              "    <tr>\n",
              "      <th>280</th>\n",
              "      <td>380</td>\n",
              "    </tr>\n",
              "    <tr>\n",
              "      <th>290</th>\n",
              "      <td>488</td>\n",
              "    </tr>\n",
              "    <tr>\n",
              "      <th>300</th>\n",
              "      <td>60</td>\n",
              "    </tr>\n",
              "    <tr>\n",
              "      <th>320</th>\n",
              "      <td>480</td>\n",
              "    </tr>\n",
              "    <tr>\n",
              "      <th>325</th>\n",
              "      <td>136</td>\n",
              "    </tr>\n",
              "    <tr>\n",
              "      <th>340</th>\n",
              "      <td>476</td>\n",
              "    </tr>\n",
              "    <tr>\n",
              "      <th>350</th>\n",
              "      <td>68</td>\n",
              "    </tr>\n",
              "    <tr>\n",
              "      <th>360</th>\n",
              "      <td>476</td>\n",
              "    </tr>\n",
              "    <tr>\n",
              "      <th>375</th>\n",
              "      <td>204</td>\n",
              "    </tr>\n",
              "    <tr>\n",
              "      <th>380</th>\n",
              "      <td>476</td>\n",
              "    </tr>\n",
              "    <tr>\n",
              "      <th>400</th>\n",
              "      <td>0</td>\n",
              "    </tr>\n",
              "    <tr>\n",
              "      <th>425</th>\n",
              "      <td>204</td>\n",
              "    </tr>\n",
              "    <tr>\n",
              "      <th>450</th>\n",
              "      <td>0</td>\n",
              "    </tr>\n",
              "    <tr>\n",
              "      <th>475</th>\n",
              "      <td>204</td>\n",
              "    </tr>\n",
              "    <tr>\n",
              "      <th>500</th>\n",
              "      <td>0</td>\n",
              "    </tr>\n",
              "    <tr>\n",
              "      <th>525</th>\n",
              "      <td>272</td>\n",
              "    </tr>\n",
              "    <tr>\n",
              "      <th>550</th>\n",
              "      <td>0</td>\n",
              "    </tr>\n",
              "    <tr>\n",
              "      <th>575</th>\n",
              "      <td>340</td>\n",
              "    </tr>\n",
              "    <tr>\n",
              "      <th>600</th>\n",
              "      <td>0</td>\n",
              "    </tr>\n",
              "    <tr>\n",
              "      <th>625</th>\n",
              "      <td>476</td>\n",
              "    </tr>\n",
              "    <tr>\n",
              "      <th>650</th>\n",
              "      <td>0</td>\n",
              "    </tr>\n",
              "  </tbody>\n",
              "</table>\n",
              "</div><br><label><b>dtype:</b> int64</label>"
            ]
          },
          "metadata": {},
          "execution_count": 5
        }
      ],
      "source": [
        "df.isnull().sum()"
      ]
    },
    {
      "cell_type": "markdown",
      "metadata": {
        "id": "Av-lcft2c3mx"
      },
      "source": [
        "### Create a column which contains the Pressure and Property columns, seperated with 'at' (For eg. V at 1, H at 101.325). Using this print the following:\n",
        "- Enthalpy at 75 kPa and 573 K\n",
        "- Entropy at 493 K and 250 kPa\n",
        "\n"
      ]
    },
    {
      "cell_type": "code",
      "source": [
        "df['Property_at_Pressure'] = df['Property'] + ' at ' + df['Pressure'].astype(str)"
      ],
      "metadata": {
        "id": "_Dl6gg8DlttU"
      },
      "execution_count": 15,
      "outputs": []
    },
    {
      "cell_type": "code",
      "source": [
        "df.head(10)"
      ],
      "metadata": {
        "colab": {
          "base_uri": "https://localhost:8080/",
          "height": 412
        },
        "id": "J7WdehU5ly6i",
        "outputId": "fb0a53d2-98ec-4a75-ecc3-1cfee33d4fdf"
      },
      "execution_count": 16,
      "outputs": [
        {
          "output_type": "execute_result",
          "data": {
            "text/plain": [
              "   Pressure Property   Liq_Sat      Vap_Sat           75          100  \\\n",
              "0       1.0        V    1.0000  129200.0000  160640.0000  172180.0000   \n",
              "1       1.0        U   29.3340    2385.2000    2480.8000    2516.4000   \n",
              "2       1.0        H   29.3350    2514.4000    2641.5000    2688.6000   \n",
              "3       1.0        S    0.1060       8.9767       9.3828       9.5136   \n",
              "4      10.0        V    1.0100   14670.0000   16030.0000   17190.0000   \n",
              "5      10.0        U  191.8220    2438.0000    2479.7000    2515.6000   \n",
              "6      10.0        H  191.8320    2584.8000    2640.0000    2687.5000   \n",
              "7      10.0        S    0.6493       8.1511       8.3168       8.4486   \n",
              "8      20.0        V    1.0170    7649.8000    8000.0000    8584.7000   \n",
              "9      20.0        U  251.4320    2456.9000    2478.4000    2514.6000   \n",
              "\n",
              "           125          150          175          200  ...          450  475  \\\n",
              "0  183720.0000  195270.0000  206810.0000  218350.0000  ...  333730.0000  NaN   \n",
              "1    2552.3000    2588.5000    2624.9000    2661.7000  ...    3049.9000  NaN   \n",
              "2    2736.0000    2783.7000    2831.7000    2880.1000  ...    3383.6000  NaN   \n",
              "3       9.6365       9.7527       9.8629       9.9679  ...      10.8200  NaN   \n",
              "4   18350.0000   19510.0000   20660.0000   21820.0000  ...   33370.0000  NaN   \n",
              "5    2551.6000    2588.0000    2624.5000    2661.4000  ...    3049.8000  NaN   \n",
              "6    2735.2000    2783.1000    2831.2000    2879.6000  ...    3383.5000  NaN   \n",
              "7       8.5722       8.6888       8.7994       8.9045  ...       9.7572  NaN   \n",
              "8    9167.1000    9748.0000   10320.0000   10900.0000  ...   16680.0000  NaN   \n",
              "9    2550.9000    2587.4000    2624.1000    2661.0000  ...    3049.7000  NaN   \n",
              "\n",
              "           500  525          550  575          600  625          650  \\\n",
              "0  356810.0000  NaN  379880.0000  NaN  402960.0000  NaN  426040.0000   \n",
              "1    3132.4000  NaN    3216.7000  NaN    3302.6000  NaN    3390.3000   \n",
              "2    3489.2000  NaN    3596.5000  NaN    3705.6000  NaN    3816.4000   \n",
              "3      10.9612  NaN      11.0957  NaN      11.2243  NaN      11.3476   \n",
              "4   35670.0000  NaN   37980.0000  NaN   40290.0000  NaN   42600.0000   \n",
              "5    3132.3000  NaN    3216.6000  NaN    3302.6000  NaN    3390.3000   \n",
              "6    3489.1000  NaN    3596.5000  NaN    3705.5000  NaN    3816.3000   \n",
              "7       9.8984  NaN      10.0329  NaN      10.1616  NaN      10.2849   \n",
              "8   17830.0000  NaN   18990.0000  NaN   20140.0000  NaN   21300.0000   \n",
              "9    3132.3000  NaN    3216.5000  NaN    3302.5000  NaN    3390.2000   \n",
              "\n",
              "   Property_at_Pressure  \n",
              "0              V at 1.0  \n",
              "1              U at 1.0  \n",
              "2              H at 1.0  \n",
              "3              S at 1.0  \n",
              "4             V at 10.0  \n",
              "5             U at 10.0  \n",
              "6             H at 10.0  \n",
              "7             S at 10.0  \n",
              "8             V at 20.0  \n",
              "9             U at 20.0  \n",
              "\n",
              "[10 rows x 38 columns]"
            ],
            "text/html": [
              "\n",
              "  <div id=\"df-d72efa83-fa35-450d-87fa-33d4b1703140\" class=\"colab-df-container\">\n",
              "    <div>\n",
              "<style scoped>\n",
              "    .dataframe tbody tr th:only-of-type {\n",
              "        vertical-align: middle;\n",
              "    }\n",
              "\n",
              "    .dataframe tbody tr th {\n",
              "        vertical-align: top;\n",
              "    }\n",
              "\n",
              "    .dataframe thead th {\n",
              "        text-align: right;\n",
              "    }\n",
              "</style>\n",
              "<table border=\"1\" class=\"dataframe\">\n",
              "  <thead>\n",
              "    <tr style=\"text-align: right;\">\n",
              "      <th></th>\n",
              "      <th>Pressure</th>\n",
              "      <th>Property</th>\n",
              "      <th>Liq_Sat</th>\n",
              "      <th>Vap_Sat</th>\n",
              "      <th>75</th>\n",
              "      <th>100</th>\n",
              "      <th>125</th>\n",
              "      <th>150</th>\n",
              "      <th>175</th>\n",
              "      <th>200</th>\n",
              "      <th>...</th>\n",
              "      <th>450</th>\n",
              "      <th>475</th>\n",
              "      <th>500</th>\n",
              "      <th>525</th>\n",
              "      <th>550</th>\n",
              "      <th>575</th>\n",
              "      <th>600</th>\n",
              "      <th>625</th>\n",
              "      <th>650</th>\n",
              "      <th>Property_at_Pressure</th>\n",
              "    </tr>\n",
              "  </thead>\n",
              "  <tbody>\n",
              "    <tr>\n",
              "      <th>0</th>\n",
              "      <td>1.0</td>\n",
              "      <td>V</td>\n",
              "      <td>1.0000</td>\n",
              "      <td>129200.0000</td>\n",
              "      <td>160640.0000</td>\n",
              "      <td>172180.0000</td>\n",
              "      <td>183720.0000</td>\n",
              "      <td>195270.0000</td>\n",
              "      <td>206810.0000</td>\n",
              "      <td>218350.0000</td>\n",
              "      <td>...</td>\n",
              "      <td>333730.0000</td>\n",
              "      <td>NaN</td>\n",
              "      <td>356810.0000</td>\n",
              "      <td>NaN</td>\n",
              "      <td>379880.0000</td>\n",
              "      <td>NaN</td>\n",
              "      <td>402960.0000</td>\n",
              "      <td>NaN</td>\n",
              "      <td>426040.0000</td>\n",
              "      <td>V at 1.0</td>\n",
              "    </tr>\n",
              "    <tr>\n",
              "      <th>1</th>\n",
              "      <td>1.0</td>\n",
              "      <td>U</td>\n",
              "      <td>29.3340</td>\n",
              "      <td>2385.2000</td>\n",
              "      <td>2480.8000</td>\n",
              "      <td>2516.4000</td>\n",
              "      <td>2552.3000</td>\n",
              "      <td>2588.5000</td>\n",
              "      <td>2624.9000</td>\n",
              "      <td>2661.7000</td>\n",
              "      <td>...</td>\n",
              "      <td>3049.9000</td>\n",
              "      <td>NaN</td>\n",
              "      <td>3132.4000</td>\n",
              "      <td>NaN</td>\n",
              "      <td>3216.7000</td>\n",
              "      <td>NaN</td>\n",
              "      <td>3302.6000</td>\n",
              "      <td>NaN</td>\n",
              "      <td>3390.3000</td>\n",
              "      <td>U at 1.0</td>\n",
              "    </tr>\n",
              "    <tr>\n",
              "      <th>2</th>\n",
              "      <td>1.0</td>\n",
              "      <td>H</td>\n",
              "      <td>29.3350</td>\n",
              "      <td>2514.4000</td>\n",
              "      <td>2641.5000</td>\n",
              "      <td>2688.6000</td>\n",
              "      <td>2736.0000</td>\n",
              "      <td>2783.7000</td>\n",
              "      <td>2831.7000</td>\n",
              "      <td>2880.1000</td>\n",
              "      <td>...</td>\n",
              "      <td>3383.6000</td>\n",
              "      <td>NaN</td>\n",
              "      <td>3489.2000</td>\n",
              "      <td>NaN</td>\n",
              "      <td>3596.5000</td>\n",
              "      <td>NaN</td>\n",
              "      <td>3705.6000</td>\n",
              "      <td>NaN</td>\n",
              "      <td>3816.4000</td>\n",
              "      <td>H at 1.0</td>\n",
              "    </tr>\n",
              "    <tr>\n",
              "      <th>3</th>\n",
              "      <td>1.0</td>\n",
              "      <td>S</td>\n",
              "      <td>0.1060</td>\n",
              "      <td>8.9767</td>\n",
              "      <td>9.3828</td>\n",
              "      <td>9.5136</td>\n",
              "      <td>9.6365</td>\n",
              "      <td>9.7527</td>\n",
              "      <td>9.8629</td>\n",
              "      <td>9.9679</td>\n",
              "      <td>...</td>\n",
              "      <td>10.8200</td>\n",
              "      <td>NaN</td>\n",
              "      <td>10.9612</td>\n",
              "      <td>NaN</td>\n",
              "      <td>11.0957</td>\n",
              "      <td>NaN</td>\n",
              "      <td>11.2243</td>\n",
              "      <td>NaN</td>\n",
              "      <td>11.3476</td>\n",
              "      <td>S at 1.0</td>\n",
              "    </tr>\n",
              "    <tr>\n",
              "      <th>4</th>\n",
              "      <td>10.0</td>\n",
              "      <td>V</td>\n",
              "      <td>1.0100</td>\n",
              "      <td>14670.0000</td>\n",
              "      <td>16030.0000</td>\n",
              "      <td>17190.0000</td>\n",
              "      <td>18350.0000</td>\n",
              "      <td>19510.0000</td>\n",
              "      <td>20660.0000</td>\n",
              "      <td>21820.0000</td>\n",
              "      <td>...</td>\n",
              "      <td>33370.0000</td>\n",
              "      <td>NaN</td>\n",
              "      <td>35670.0000</td>\n",
              "      <td>NaN</td>\n",
              "      <td>37980.0000</td>\n",
              "      <td>NaN</td>\n",
              "      <td>40290.0000</td>\n",
              "      <td>NaN</td>\n",
              "      <td>42600.0000</td>\n",
              "      <td>V at 10.0</td>\n",
              "    </tr>\n",
              "    <tr>\n",
              "      <th>5</th>\n",
              "      <td>10.0</td>\n",
              "      <td>U</td>\n",
              "      <td>191.8220</td>\n",
              "      <td>2438.0000</td>\n",
              "      <td>2479.7000</td>\n",
              "      <td>2515.6000</td>\n",
              "      <td>2551.6000</td>\n",
              "      <td>2588.0000</td>\n",
              "      <td>2624.5000</td>\n",
              "      <td>2661.4000</td>\n",
              "      <td>...</td>\n",
              "      <td>3049.8000</td>\n",
              "      <td>NaN</td>\n",
              "      <td>3132.3000</td>\n",
              "      <td>NaN</td>\n",
              "      <td>3216.6000</td>\n",
              "      <td>NaN</td>\n",
              "      <td>3302.6000</td>\n",
              "      <td>NaN</td>\n",
              "      <td>3390.3000</td>\n",
              "      <td>U at 10.0</td>\n",
              "    </tr>\n",
              "    <tr>\n",
              "      <th>6</th>\n",
              "      <td>10.0</td>\n",
              "      <td>H</td>\n",
              "      <td>191.8320</td>\n",
              "      <td>2584.8000</td>\n",
              "      <td>2640.0000</td>\n",
              "      <td>2687.5000</td>\n",
              "      <td>2735.2000</td>\n",
              "      <td>2783.1000</td>\n",
              "      <td>2831.2000</td>\n",
              "      <td>2879.6000</td>\n",
              "      <td>...</td>\n",
              "      <td>3383.5000</td>\n",
              "      <td>NaN</td>\n",
              "      <td>3489.1000</td>\n",
              "      <td>NaN</td>\n",
              "      <td>3596.5000</td>\n",
              "      <td>NaN</td>\n",
              "      <td>3705.5000</td>\n",
              "      <td>NaN</td>\n",
              "      <td>3816.3000</td>\n",
              "      <td>H at 10.0</td>\n",
              "    </tr>\n",
              "    <tr>\n",
              "      <th>7</th>\n",
              "      <td>10.0</td>\n",
              "      <td>S</td>\n",
              "      <td>0.6493</td>\n",
              "      <td>8.1511</td>\n",
              "      <td>8.3168</td>\n",
              "      <td>8.4486</td>\n",
              "      <td>8.5722</td>\n",
              "      <td>8.6888</td>\n",
              "      <td>8.7994</td>\n",
              "      <td>8.9045</td>\n",
              "      <td>...</td>\n",
              "      <td>9.7572</td>\n",
              "      <td>NaN</td>\n",
              "      <td>9.8984</td>\n",
              "      <td>NaN</td>\n",
              "      <td>10.0329</td>\n",
              "      <td>NaN</td>\n",
              "      <td>10.1616</td>\n",
              "      <td>NaN</td>\n",
              "      <td>10.2849</td>\n",
              "      <td>S at 10.0</td>\n",
              "    </tr>\n",
              "    <tr>\n",
              "      <th>8</th>\n",
              "      <td>20.0</td>\n",
              "      <td>V</td>\n",
              "      <td>1.0170</td>\n",
              "      <td>7649.8000</td>\n",
              "      <td>8000.0000</td>\n",
              "      <td>8584.7000</td>\n",
              "      <td>9167.1000</td>\n",
              "      <td>9748.0000</td>\n",
              "      <td>10320.0000</td>\n",
              "      <td>10900.0000</td>\n",
              "      <td>...</td>\n",
              "      <td>16680.0000</td>\n",
              "      <td>NaN</td>\n",
              "      <td>17830.0000</td>\n",
              "      <td>NaN</td>\n",
              "      <td>18990.0000</td>\n",
              "      <td>NaN</td>\n",
              "      <td>20140.0000</td>\n",
              "      <td>NaN</td>\n",
              "      <td>21300.0000</td>\n",
              "      <td>V at 20.0</td>\n",
              "    </tr>\n",
              "    <tr>\n",
              "      <th>9</th>\n",
              "      <td>20.0</td>\n",
              "      <td>U</td>\n",
              "      <td>251.4320</td>\n",
              "      <td>2456.9000</td>\n",
              "      <td>2478.4000</td>\n",
              "      <td>2514.6000</td>\n",
              "      <td>2550.9000</td>\n",
              "      <td>2587.4000</td>\n",
              "      <td>2624.1000</td>\n",
              "      <td>2661.0000</td>\n",
              "      <td>...</td>\n",
              "      <td>3049.7000</td>\n",
              "      <td>NaN</td>\n",
              "      <td>3132.3000</td>\n",
              "      <td>NaN</td>\n",
              "      <td>3216.5000</td>\n",
              "      <td>NaN</td>\n",
              "      <td>3302.5000</td>\n",
              "      <td>NaN</td>\n",
              "      <td>3390.2000</td>\n",
              "      <td>U at 20.0</td>\n",
              "    </tr>\n",
              "  </tbody>\n",
              "</table>\n",
              "<p>10 rows × 38 columns</p>\n",
              "</div>\n",
              "    <div class=\"colab-df-buttons\">\n",
              "\n",
              "  <div class=\"colab-df-container\">\n",
              "    <button class=\"colab-df-convert\" onclick=\"convertToInteractive('df-d72efa83-fa35-450d-87fa-33d4b1703140')\"\n",
              "            title=\"Convert this dataframe to an interactive table.\"\n",
              "            style=\"display:none;\">\n",
              "\n",
              "  <svg xmlns=\"http://www.w3.org/2000/svg\" height=\"24px\" viewBox=\"0 -960 960 960\">\n",
              "    <path d=\"M120-120v-720h720v720H120Zm60-500h600v-160H180v160Zm220 220h160v-160H400v160Zm0 220h160v-160H400v160ZM180-400h160v-160H180v160Zm440 0h160v-160H620v160ZM180-180h160v-160H180v160Zm440 0h160v-160H620v160Z\"/>\n",
              "  </svg>\n",
              "    </button>\n",
              "\n",
              "  <style>\n",
              "    .colab-df-container {\n",
              "      display:flex;\n",
              "      gap: 12px;\n",
              "    }\n",
              "\n",
              "    .colab-df-convert {\n",
              "      background-color: #E8F0FE;\n",
              "      border: none;\n",
              "      border-radius: 50%;\n",
              "      cursor: pointer;\n",
              "      display: none;\n",
              "      fill: #1967D2;\n",
              "      height: 32px;\n",
              "      padding: 0 0 0 0;\n",
              "      width: 32px;\n",
              "    }\n",
              "\n",
              "    .colab-df-convert:hover {\n",
              "      background-color: #E2EBFA;\n",
              "      box-shadow: 0px 1px 2px rgba(60, 64, 67, 0.3), 0px 1px 3px 1px rgba(60, 64, 67, 0.15);\n",
              "      fill: #174EA6;\n",
              "    }\n",
              "\n",
              "    .colab-df-buttons div {\n",
              "      margin-bottom: 4px;\n",
              "    }\n",
              "\n",
              "    [theme=dark] .colab-df-convert {\n",
              "      background-color: #3B4455;\n",
              "      fill: #D2E3FC;\n",
              "    }\n",
              "\n",
              "    [theme=dark] .colab-df-convert:hover {\n",
              "      background-color: #434B5C;\n",
              "      box-shadow: 0px 1px 3px 1px rgba(0, 0, 0, 0.15);\n",
              "      filter: drop-shadow(0px 1px 2px rgba(0, 0, 0, 0.3));\n",
              "      fill: #FFFFFF;\n",
              "    }\n",
              "  </style>\n",
              "\n",
              "    <script>\n",
              "      const buttonEl =\n",
              "        document.querySelector('#df-d72efa83-fa35-450d-87fa-33d4b1703140 button.colab-df-convert');\n",
              "      buttonEl.style.display =\n",
              "        google.colab.kernel.accessAllowed ? 'block' : 'none';\n",
              "\n",
              "      async function convertToInteractive(key) {\n",
              "        const element = document.querySelector('#df-d72efa83-fa35-450d-87fa-33d4b1703140');\n",
              "        const dataTable =\n",
              "          await google.colab.kernel.invokeFunction('convertToInteractive',\n",
              "                                                    [key], {});\n",
              "        if (!dataTable) return;\n",
              "\n",
              "        const docLinkHtml = 'Like what you see? Visit the ' +\n",
              "          '<a target=\"_blank\" href=https://colab.research.google.com/notebooks/data_table.ipynb>data table notebook</a>'\n",
              "          + ' to learn more about interactive tables.';\n",
              "        element.innerHTML = '';\n",
              "        dataTable['output_type'] = 'display_data';\n",
              "        await google.colab.output.renderOutput(dataTable, element);\n",
              "        const docLink = document.createElement('div');\n",
              "        docLink.innerHTML = docLinkHtml;\n",
              "        element.appendChild(docLink);\n",
              "      }\n",
              "    </script>\n",
              "  </div>\n",
              "\n",
              "\n",
              "    <div id=\"df-cefeb457-50dc-4fdb-8d2c-769d749715ee\">\n",
              "      <button class=\"colab-df-quickchart\" onclick=\"quickchart('df-cefeb457-50dc-4fdb-8d2c-769d749715ee')\"\n",
              "                title=\"Suggest charts\"\n",
              "                style=\"display:none;\">\n",
              "\n",
              "<svg xmlns=\"http://www.w3.org/2000/svg\" height=\"24px\"viewBox=\"0 0 24 24\"\n",
              "     width=\"24px\">\n",
              "    <g>\n",
              "        <path d=\"M19 3H5c-1.1 0-2 .9-2 2v14c0 1.1.9 2 2 2h14c1.1 0 2-.9 2-2V5c0-1.1-.9-2-2-2zM9 17H7v-7h2v7zm4 0h-2V7h2v10zm4 0h-2v-4h2v4z\"/>\n",
              "    </g>\n",
              "</svg>\n",
              "      </button>\n",
              "\n",
              "<style>\n",
              "  .colab-df-quickchart {\n",
              "      --bg-color: #E8F0FE;\n",
              "      --fill-color: #1967D2;\n",
              "      --hover-bg-color: #E2EBFA;\n",
              "      --hover-fill-color: #174EA6;\n",
              "      --disabled-fill-color: #AAA;\n",
              "      --disabled-bg-color: #DDD;\n",
              "  }\n",
              "\n",
              "  [theme=dark] .colab-df-quickchart {\n",
              "      --bg-color: #3B4455;\n",
              "      --fill-color: #D2E3FC;\n",
              "      --hover-bg-color: #434B5C;\n",
              "      --hover-fill-color: #FFFFFF;\n",
              "      --disabled-bg-color: #3B4455;\n",
              "      --disabled-fill-color: #666;\n",
              "  }\n",
              "\n",
              "  .colab-df-quickchart {\n",
              "    background-color: var(--bg-color);\n",
              "    border: none;\n",
              "    border-radius: 50%;\n",
              "    cursor: pointer;\n",
              "    display: none;\n",
              "    fill: var(--fill-color);\n",
              "    height: 32px;\n",
              "    padding: 0;\n",
              "    width: 32px;\n",
              "  }\n",
              "\n",
              "  .colab-df-quickchart:hover {\n",
              "    background-color: var(--hover-bg-color);\n",
              "    box-shadow: 0 1px 2px rgba(60, 64, 67, 0.3), 0 1px 3px 1px rgba(60, 64, 67, 0.15);\n",
              "    fill: var(--button-hover-fill-color);\n",
              "  }\n",
              "\n",
              "  .colab-df-quickchart-complete:disabled,\n",
              "  .colab-df-quickchart-complete:disabled:hover {\n",
              "    background-color: var(--disabled-bg-color);\n",
              "    fill: var(--disabled-fill-color);\n",
              "    box-shadow: none;\n",
              "  }\n",
              "\n",
              "  .colab-df-spinner {\n",
              "    border: 2px solid var(--fill-color);\n",
              "    border-color: transparent;\n",
              "    border-bottom-color: var(--fill-color);\n",
              "    animation:\n",
              "      spin 1s steps(1) infinite;\n",
              "  }\n",
              "\n",
              "  @keyframes spin {\n",
              "    0% {\n",
              "      border-color: transparent;\n",
              "      border-bottom-color: var(--fill-color);\n",
              "      border-left-color: var(--fill-color);\n",
              "    }\n",
              "    20% {\n",
              "      border-color: transparent;\n",
              "      border-left-color: var(--fill-color);\n",
              "      border-top-color: var(--fill-color);\n",
              "    }\n",
              "    30% {\n",
              "      border-color: transparent;\n",
              "      border-left-color: var(--fill-color);\n",
              "      border-top-color: var(--fill-color);\n",
              "      border-right-color: var(--fill-color);\n",
              "    }\n",
              "    40% {\n",
              "      border-color: transparent;\n",
              "      border-right-color: var(--fill-color);\n",
              "      border-top-color: var(--fill-color);\n",
              "    }\n",
              "    60% {\n",
              "      border-color: transparent;\n",
              "      border-right-color: var(--fill-color);\n",
              "    }\n",
              "    80% {\n",
              "      border-color: transparent;\n",
              "      border-right-color: var(--fill-color);\n",
              "      border-bottom-color: var(--fill-color);\n",
              "    }\n",
              "    90% {\n",
              "      border-color: transparent;\n",
              "      border-bottom-color: var(--fill-color);\n",
              "    }\n",
              "  }\n",
              "</style>\n",
              "\n",
              "      <script>\n",
              "        async function quickchart(key) {\n",
              "          const quickchartButtonEl =\n",
              "            document.querySelector('#' + key + ' button');\n",
              "          quickchartButtonEl.disabled = true;  // To prevent multiple clicks.\n",
              "          quickchartButtonEl.classList.add('colab-df-spinner');\n",
              "          try {\n",
              "            const charts = await google.colab.kernel.invokeFunction(\n",
              "                'suggestCharts', [key], {});\n",
              "          } catch (error) {\n",
              "            console.error('Error during call to suggestCharts:', error);\n",
              "          }\n",
              "          quickchartButtonEl.classList.remove('colab-df-spinner');\n",
              "          quickchartButtonEl.classList.add('colab-df-quickchart-complete');\n",
              "        }\n",
              "        (() => {\n",
              "          let quickchartButtonEl =\n",
              "            document.querySelector('#df-cefeb457-50dc-4fdb-8d2c-769d749715ee button');\n",
              "          quickchartButtonEl.style.display =\n",
              "            google.colab.kernel.accessAllowed ? 'block' : 'none';\n",
              "        })();\n",
              "      </script>\n",
              "    </div>\n",
              "\n",
              "    </div>\n",
              "  </div>\n"
            ],
            "application/vnd.google.colaboratory.intrinsic+json": {
              "type": "dataframe",
              "variable_name": "df"
            }
          },
          "metadata": {},
          "execution_count": 16
        }
      ]
    },
    {
      "cell_type": "code",
      "source": [
        "enthalpy = df[(df['Pressure'] == 75.0) & (df['Property'] == 'H')]['300'].values[0]\n",
        "print(enthalpy)\n",
        "entropy = df[(df['Pressure'] == 250.0) & (df['Property'] == 'S')]['220'].values[0]\n",
        "print(entropy)"
      ],
      "metadata": {
        "colab": {
          "base_uri": "https://localhost:8080/"
        },
        "id": "A9P2bpa8p9gl",
        "outputId": "062486a7-0041-4ee5-ef3d-7c4b563311fd"
      },
      "execution_count": 21,
      "outputs": [
        {
          "output_type": "stream",
          "name": "stdout",
          "text": [
            "3075.1\n",
            "nan\n"
          ]
        }
      ]
    },
    {
      "cell_type": "markdown",
      "metadata": {
        "id": "GpLtXYRLc4Ho"
      },
      "source": [
        "### Find out the column with the highest number of missing values"
      ]
    },
    {
      "cell_type": "code",
      "execution_count": 19,
      "metadata": {
        "id": "q80Grgeyc4Xn",
        "colab": {
          "base_uri": "https://localhost:8080/"
        },
        "outputId": "bedf3c41-c950-43a0-e4af-8972a69ab220"
      },
      "outputs": [
        {
          "output_type": "stream",
          "name": "stdout",
          "text": [
            "75 528\n"
          ]
        },
        {
          "output_type": "stream",
          "name": "stderr",
          "text": [
            "<ipython-input-19-bcffc47722b4>:4: FutureWarning: Series.__getitem__ treating keys as positions is deprecated. In a future version, integer keys will always be treated as labels (consistent with DataFrame behavior). To access a value by position, use `ser.iloc[pos]`\n",
            "  if miss[i]==ct_max:\n"
          ]
        }
      ],
      "source": [
        "miss=df.isnull().sum()\n",
        "ct_max=miss.max()\n",
        "for i in range(len(miss)):\n",
        "  if miss[i]==ct_max:\n",
        "    print(miss.index[i], ct_max)"
      ]
    },
    {
      "cell_type": "markdown",
      "metadata": {
        "id": "74NVHTTac4nv"
      },
      "source": [
        "### What is the average enthalpy of Sat. Liq. at all different pressures in the dataset?"
      ]
    },
    {
      "cell_type": "code",
      "execution_count": 20,
      "metadata": {
        "id": "g3mByhBDdpVr",
        "colab": {
          "base_uri": "https://localhost:8080/"
        },
        "outputId": "285dce38-08d1-4d6a-8dcf-78ccd1fa6f69"
      },
      "outputs": [
        {
          "output_type": "stream",
          "name": "stdout",
          "text": [
            "Pressure\n",
            "1.0          29.335\n",
            "10.0        191.832\n",
            "20.0        251.453\n",
            "30.0        289.302\n",
            "40.0        317.650\n",
            "             ...   \n",
            "10600.0    1433.700\n",
            "10800.0    1442.200\n",
            "11000.0    1450.600\n",
            "11200.0    1458.900\n",
            "11400.0    1467.200\n",
            "Name: Liq_Sat, Length: 136, dtype: float64\n"
          ]
        }
      ],
      "source": [
        "H_new = df[df['Property'] == 'H']\n",
        "avg_enthalpy = H_new.groupby('Pressure')['Liq_Sat'].mean()\n",
        "print(avg_enthalpy)"
      ]
    },
    {
      "cell_type": "markdown",
      "metadata": {
        "id": "uS-SuqU8dpxg"
      },
      "source": [
        "### Separate out the V,U,H,S data from the dataset into V_data, U_data, H_data, S_data"
      ]
    },
    {
      "cell_type": "code",
      "execution_count": 23,
      "metadata": {
        "id": "Sg3V9Toyd1Av",
        "colab": {
          "base_uri": "https://localhost:8080/"
        },
        "outputId": "14b2a93d-8e9f-47b0-ade4-769024203fc8"
      },
      "outputs": [
        {
          "output_type": "stream",
          "name": "stdout",
          "text": [
            "     Pressure Property  Liq_Sat     Vap_Sat        75       100       125  \\\n",
            "0         1.0        V    1.000  129200.000  160640.0  172180.0  183720.0   \n",
            "4        10.0        V    1.010   14670.000   16030.0   17190.0   18350.0   \n",
            "8        20.0        V    1.017    7649.800    8000.0    8584.7    9167.1   \n",
            "12       30.0        V    1.022    5229.300    5322.0    5714.4    6104.6   \n",
            "16       40.0        V    1.027    3993.400       NaN    4279.2    4573.3   \n",
            "..        ...      ...      ...         ...       ...       ...       ...   \n",
            "524   10600.0        V    1.474      16.778       NaN       NaN       NaN   \n",
            "528   10800.0        V    1.481      16.385       NaN       NaN       NaN   \n",
            "532   11000.0        V    1.489      16.006       NaN       NaN       NaN   \n",
            "536   11200.0        V    1.496      15.639       NaN       NaN       NaN   \n",
            "540   11400.0        V    1.504      15.284       NaN       NaN       NaN   \n",
            "\n",
            "          150       175       200  ...         450     475         500  \\\n",
            "0    195270.0  206810.0  218350.0  ...  333730.000     NaN  356810.000   \n",
            "4     19510.0   20660.0   21820.0  ...   33370.000     NaN   35670.000   \n",
            "8      9748.0   10320.0   10900.0  ...   16680.000     NaN   17830.000   \n",
            "12     6493.2    6880.8    7267.5  ...   11120.000     NaN   11890.000   \n",
            "16     4865.8    5157.2    5447.8  ...    8340.100     NaN    8917.600   \n",
            "..        ...       ...       ...  ...         ...     ...         ...   \n",
            "524       NaN       NaN       NaN  ...      27.834  29.313      30.732   \n",
            "528       NaN       NaN       NaN  ...      27.245  28.706      30.106   \n",
            "532       NaN       NaN       NaN  ...      26.676  28.120      29.503   \n",
            "536       NaN       NaN       NaN  ...      26.128  27.555      28.921   \n",
            "540       NaN       NaN       NaN  ...      25.599  27.010      28.359   \n",
            "\n",
            "        525         550     575         600     625         650  \\\n",
            "0       NaN  379880.000     NaN  402960.000     NaN  426040.000   \n",
            "4       NaN   37980.000     NaN   40290.000     NaN   42600.000   \n",
            "8       NaN   18990.000     NaN   20140.000     NaN   21300.000   \n",
            "12      NaN   12660.000     NaN   13430.000     NaN   14190.000   \n",
            "16      NaN    9494.900     NaN   10070.000     NaN   10640.000   \n",
            "..      ...         ...     ...         ...     ...         ...   \n",
            "524  32.106      33.444  34.753      36.039  37.304      38.552   \n",
            "528  31.461      32.779  34.069      35.335  36.580      37.808   \n",
            "532  30.839      32.139  33.410      34.656  35.882      37.091   \n",
            "536  30.240      31.521  32.774      34.002  35.210      36.400   \n",
            "540  29.661      30.925  32.160      33.370  34.560      35.733   \n",
            "\n",
            "     Property_at_Pressure  \n",
            "0                V at 1.0  \n",
            "4               V at 10.0  \n",
            "8               V at 20.0  \n",
            "12              V at 30.0  \n",
            "16              V at 40.0  \n",
            "..                    ...  \n",
            "524          V at 10600.0  \n",
            "528          V at 10800.0  \n",
            "532          V at 11000.0  \n",
            "536          V at 11200.0  \n",
            "540          V at 11400.0  \n",
            "\n",
            "[136 rows x 38 columns]\n",
            "     Pressure Property   Liq_Sat  Vap_Sat      75     100     125     150  \\\n",
            "1         1.0        U    29.334   2385.2  2480.8  2516.4  2552.3  2588.5   \n",
            "5        10.0        U   191.822   2438.0  2479.7  2515.6  2551.6  2588.0   \n",
            "9        20.0        U   251.432   2456.9  2478.4  2514.6  2550.9  2587.4   \n",
            "13       30.0        U   289.271   2468.6  2477.1  2513.6  2550.2  2586.8   \n",
            "17       40.0        U   317.609   2477.1     NaN  2512.6  2549.4  2586.2   \n",
            "..        ...      ...       ...      ...     ...     ...     ...     ...   \n",
            "525   10600.0        U  1418.100   2539.0     NaN     NaN     NaN     NaN   \n",
            "529   10800.0        U  1426.200   2536.2     NaN     NaN     NaN     NaN   \n",
            "533   11000.0        U  1434.200   2533.2     NaN     NaN     NaN     NaN   \n",
            "537   11200.0        U  1442.100   2530.3     NaN     NaN     NaN     NaN   \n",
            "541   11400.0        U  1450.000   2527.2     NaN     NaN     NaN     NaN   \n",
            "\n",
            "        175     200  ...     450     475     500     525     550     575  \\\n",
            "1    2624.9  2661.7  ...  3049.9     NaN  3132.4     NaN  3216.7     NaN   \n",
            "5    2624.5  2661.4  ...  3049.8     NaN  3132.3     NaN  3216.6     NaN   \n",
            "9    2624.1  2661.0  ...  3049.7     NaN  3132.3     NaN  3216.5     NaN   \n",
            "13   2623.6  2660.7  ...  3049.6     NaN  3132.2     NaN  3216.5     NaN   \n",
            "17   2623.2  2660.3  ...  3049.5     NaN  3132.1     NaN  3216.4     NaN   \n",
            "..      ...     ...  ...     ...     ...     ...     ...     ...     ...   \n",
            "525     NaN     NaN  ...  2939.1  2991.1  3041.4  3090.7  3139.3  3187.5   \n",
            "529     NaN     NaN  ...  2936.7  2989.0  3039.6  3089.0  3137.8  3186.1   \n",
            "533     NaN     NaN  ...  2934.3  2986.9  3037.7  3087.3  3136.2  3184.7   \n",
            "537     NaN     NaN  ...  2931.8  2984.8  3035.8  3085.6  3134.7  3183.3   \n",
            "541     NaN     NaN  ...  2929.4  2982.6  3033.9  3083.9  3133.1  3181.9   \n",
            "\n",
            "        600     625     650  Property_at_Pressure  \n",
            "1    3302.6     NaN  3390.3              U at 1.0  \n",
            "5    3302.6     NaN  3390.3             U at 10.0  \n",
            "9    3302.5     NaN  3390.2             U at 20.0  \n",
            "13   3302.5     NaN  3390.2             U at 30.0  \n",
            "17   3302.4     NaN  3390.1             U at 40.0  \n",
            "..      ...     ...     ...                   ...  \n",
            "525  3235.6  3283.6  3331.7          U at 10600.0  \n",
            "529  3234.3  3282.4  3330.6          U at 10800.0  \n",
            "533  3233.0  3281.2  3329.5          U at 11000.0  \n",
            "537  3231.7  3280.0  3328.4          U at 11200.0  \n",
            "541  3230.4  3278.8  3327.2          U at 11400.0  \n",
            "\n",
            "[136 rows x 38 columns]\n",
            "     Pressure Property   Liq_Sat  Vap_Sat      75     100     125     150  \\\n",
            "2         1.0        H    29.335   2514.4  2641.5  2688.6  2736.0  2783.7   \n",
            "6        10.0        H   191.832   2584.8  2640.0  2687.5  2735.2  2783.1   \n",
            "10       20.0        H   251.453   2609.9  2638.4  2686.3  2734.2  2782.3   \n",
            "14       30.0        H   289.302   2625.4  2636.8  2685.1  2733.3  2781.6   \n",
            "18       40.0        H   317.650   2636.9     NaN  2683.8  2732.3  2780.9   \n",
            "..        ...      ...       ...      ...     ...     ...     ...     ...   \n",
            "526   10600.0        H  1433.700   2716.9     NaN     NaN     NaN     NaN   \n",
            "530   10800.0        H  1442.200   2713.1     NaN     NaN     NaN     NaN   \n",
            "534   11000.0        H  1450.600   2709.3     NaN     NaN     NaN     NaN   \n",
            "538   11200.0        H  1458.900   2705.4     NaN     NaN     NaN     NaN   \n",
            "542   11400.0        H  1467.200   2701.5     NaN     NaN     NaN     NaN   \n",
            "\n",
            "        175     200  ...     450     475     500     525     550     575  \\\n",
            "2    2831.7  2880.1  ...  3383.6     NaN  3489.2     NaN  3596.5     NaN   \n",
            "6    2831.2  2879.6  ...  3383.5     NaN  3489.1     NaN  3596.5     NaN   \n",
            "10   2830.6  2879.2  ...  3383.4     NaN  3489.0     NaN  3596.4     NaN   \n",
            "14   2830.0  2878.7  ...  3383.3     NaN  3488.9     NaN  3596.3     NaN   \n",
            "18   2829.5  2878.2  ...  3383.1     NaN  3488.8     NaN  3596.2     NaN   \n",
            "..      ...     ...  ...     ...     ...     ...     ...     ...     ...   \n",
            "526     NaN     NaN  ...  3234.1  3301.8  3367.2  3431.0  3493.8  3555.9   \n",
            "530     NaN     NaN  ...  3230.9  3299.0  3364.7  3428.8  3491.8  3554.1   \n",
            "534     NaN     NaN  ...  3227.7  3296.2  3362.2  3426.5  3489.7  3552.2   \n",
            "538     NaN     NaN  ...  3224.5  3293.4  3359.7  3424.3  3487.7  3550.4   \n",
            "542     NaN     NaN  ...  3221.2  3290.5  3357.2  3422.1  3485.7  3548.5   \n",
            "\n",
            "        600     625     650  Property_at_Pressure  \n",
            "2    3705.6     NaN  3816.4              H at 1.0  \n",
            "6    3705.5     NaN  3816.3             H at 10.0  \n",
            "10   3705.4     NaN  3816.2             H at 20.0  \n",
            "14   3705.4     NaN  3816.2             H at 30.0  \n",
            "18   3705.3     NaN  3816.1             H at 40.0  \n",
            "..      ...     ...     ...                   ...  \n",
            "526  3617.6  3679.1  3740.4          H at 10600.0  \n",
            "530  3615.9  3677.5  3738.9          H at 10800.0  \n",
            "534  3614.2  3675.9  3737.5          H at 11000.0  \n",
            "538  3612.5  3674.4  3736.0          H at 11200.0  \n",
            "542  3610.8  3672.8  3734.6          H at 11400.0  \n",
            "\n",
            "[136 rows x 38 columns]\n",
            "     Pressure Property  Liq_Sat  Vap_Sat      75     100     125     150  \\\n",
            "3         1.0        S   0.1060   8.9767  9.3828  9.5136  9.6365  9.7527   \n",
            "7        10.0        S   0.6493   8.1511  8.3168  8.4486  8.5722  8.6888   \n",
            "11       20.0        S   0.8321   7.9094  7.9933  8.1261  8.2504  8.3676   \n",
            "15       30.0        S   0.9441   7.7695  7.8024  7.9363  8.0614  8.1791   \n",
            "19       40.0        S   1.0261   7.6709     NaN  7.8009  7.9268  8.0450   \n",
            "..        ...      ...      ...      ...     ...     ...     ...     ...   \n",
            "527   10600.0        S   3.4029   5.5835     NaN     NaN     NaN     NaN   \n",
            "531   10800.0        S   3.4167   5.5715     NaN     NaN     NaN     NaN   \n",
            "535   11000.0        S   3.4304   5.5595     NaN     NaN     NaN     NaN   \n",
            "539   11200.0        S   3.4440   5.5476     NaN     NaN     NaN     NaN   \n",
            "543   11400.0        S   3.4575   5.5357     NaN     NaN     NaN     NaN   \n",
            "\n",
            "        175     200  ...      450     475      500     525      550     575  \\\n",
            "3    9.8629  9.9679  ...  10.8200     NaN  10.9612     NaN  11.0957     NaN   \n",
            "7    8.7994  8.9045  ...   9.7572     NaN   9.8984     NaN  10.0329     NaN   \n",
            "11   8.4785  8.5839  ...   9.4372     NaN   9.5784     NaN   9.7130     NaN   \n",
            "15   8.2903  8.3960  ...   9.2499     NaN   9.3912     NaN   9.5257     NaN   \n",
            "19   8.1566  8.2624  ...   9.1170     NaN   9.2583     NaN   9.3929     NaN   \n",
            "..      ...     ...  ...      ...     ...      ...     ...      ...     ...   \n",
            "527     NaN     NaN  ...   6.3872  6.4793   6.5652  6.6465   6.7239  6.7983   \n",
            "531     NaN     NaN  ...   6.3752  6.4678   6.5542  6.6357   6.7134  6.7880   \n",
            "535     NaN     NaN  ...   6.3633  6.4564   6.5432  6.6251   6.7031  6.7779   \n",
            "539     NaN     NaN  ...   6.3515  6.4452   6.5324  6.6147   6.6929  6.7679   \n",
            "543     NaN     NaN  ...   6.3399  6.4341   6.5218  6.6043   6.6828  6.7580   \n",
            "\n",
            "         600     625      650  Property_at_Pressure  \n",
            "3    11.2243     NaN  11.3476              S at 1.0  \n",
            "7    10.1616     NaN  10.2849             S at 10.0  \n",
            "11    9.8416     NaN   9.9650             S at 20.0  \n",
            "15    9.6544     NaN   9.7778             S at 30.0  \n",
            "19    9.5216     NaN   9.6450             S at 40.0  \n",
            "..       ...     ...      ...                   ...  \n",
            "527   6.8700  6.9394   7.0067          S at 10600.0  \n",
            "531   6.8599  6.9294   6.9969          S at 10800.0  \n",
            "535   6.8499  6.9196   6.9872          S at 11000.0  \n",
            "539   6.8401  6.9099   6.9777          S at 11200.0  \n",
            "543   6.8304  6.9004   6.9683          S at 11400.0  \n",
            "\n",
            "[136 rows x 38 columns]\n"
          ]
        }
      ],
      "source": [
        "V_data = df[df['Property'] == 'V']\n",
        "U_data = df[df['Property'] == 'U']\n",
        "H_data = df[df['Property'] == 'H']\n",
        "S_data = df[df['Property'] == 'S']\n",
        "print(V_data)\n",
        "print(U_data)\n",
        "print(H_data)\n",
        "print(S_data)"
      ]
    },
    {
      "cell_type": "markdown",
      "metadata": {
        "id": "Ghkj0-0-d1W7"
      },
      "source": [
        "# Section 3: Plotting with Matplotlib"
      ]
    },
    {
      "cell_type": "markdown",
      "metadata": {
        "id": "ka0qrDcZeAL6"
      },
      "source": [
        "### Plot the properties (specific volume, specific internal energy, specific enthalpy, specific entropy) vs Pressure for saturated liquid.\n",
        "\n",
        "Note:\n",
        "- Try using the subplot feature of matplotlib(Explore it!!)\n",
        "- Provide appropriate title, labels, markersize and other parameters to the plot"
      ]
    },
    {
      "cell_type": "code",
      "execution_count": 25,
      "metadata": {
        "id": "XbKdm-cUePKA",
        "colab": {
          "base_uri": "https://localhost:8080/",
          "height": 761
        },
        "outputId": "646f0853-fbe8-49fa-d0f1-94307e966ef2"
      },
      "outputs": [
        {
          "output_type": "display_data",
          "data": {
            "text/plain": [
              "<Figure size 1200x800 with 4 Axes>"
            ],
            "image/png": "[encoded data removed]"
          },
          "metadata": {}
        }
      ],
      "source": [
        "import matplotlib.pyplot as plt\n",
        "\n",
        "V_liq = df[df['Property'] == 'V'][['Pressure', 'Liq_Sat']].set_index('Pressure').sort_index()\n",
        "U_liq = df[df['Property'] == 'U'][['Pressure', 'Liq_Sat']].set_index('Pressure').sort_index()\n",
        "H_liq = df[df['Property'] == 'H'][['Pressure', 'Liq_Sat']].set_index('Pressure').sort_index()\n",
        "S_liq = df[df['Property'] == 'S'][['Pressure', 'Liq_Sat']].set_index('Pressure').sort_index()\n",
        "\n",
        "fig, axs = plt.subplots(2, 2, figsize=(12, 8))\n",
        "fig.suptitle('Saturated Liquid Properties vs Pressure')\n",
        "\n",
        "axs[0, 0].plot(V_liq.index, V_liq['Liq_Sat'], marker='o')\n",
        "axs[0, 0].set_title('Specific Volume')\n",
        "axs[0, 0].set_xlabel('Pressure (kPa)')\n",
        "axs[0, 0].set_ylabel('m³/kg')\n",
        "\n",
        "axs[0, 1].plot(U_liq.index, U_liq['Liq_Sat'], marker='s')\n",
        "axs[0, 1].set_title('Internal Energy')\n",
        "axs[0, 1].set_xlabel('Pressure (kPa)')\n",
        "axs[0, 1].set_ylabel('kJ/kg')\n",
        "\n",
        "axs[1, 0].plot(H_liq.index, H_liq['Liq_Sat'], marker='^')\n",
        "axs[1, 0].set_title('Enthalpy')\n",
        "axs[1, 0].set_xlabel('Pressure (kPa)')\n",
        "axs[1, 0].set_ylabel('kJ/kg')\n",
        "\n",
        "axs[1, 1].plot(S_liq.index, S_liq['Liq_Sat'], marker='d')\n",
        "axs[1, 1].set_title('Entropy')\n",
        "axs[1, 1].set_xlabel('Pressure (kPa)')\n",
        "axs[1, 1].set_ylabel('kJ/kg·K')\n",
        "\n",
        "plt.tight_layout(rect=[0, 0.03, 1, 0.95])\n",
        "plt.show()"
      ]
    },
    {
      "cell_type": "code",
      "execution_count": 26,
      "metadata": {
        "id": "Pq_7sWtUjz1Z",
        "colab": {
          "base_uri": "https://localhost:8080/",
          "height": 761
        },
        "outputId": "871dbdef-21b6-4eb4-99f9-e6c10176756c"
      },
      "outputs": [
        {
          "output_type": "display_data",
          "data": {
            "text/plain": [
              "<Figure size 1200x800 with 4 Axes>"
            ],
            "image/png": "[encoded data removed]"
          },
          "metadata": {}
        }
      ],
      "source": [
        "V_vap = df[df['Property'] == 'V'][['Pressure', 'Vap_Sat']].set_index('Pressure').sort_index()\n",
        "U_vap = df[df['Property'] == 'U'][['Pressure', 'Vap_Sat']].set_index('Pressure').sort_index()\n",
        "H_vap = df[df['Property'] == 'H'][['Pressure', 'Vap_Sat']].set_index('Pressure').sort_index()\n",
        "S_vap = df[df['Property'] == 'S'][['Pressure', 'Vap_Sat']].set_index('Pressure').sort_index()\n",
        "\n",
        "fig, axs = plt.subplots(2, 2, figsize=(12, 8))\n",
        "fig.suptitle('Saturated Vapor Properties vs Pressure')\n",
        "\n",
        "axs[0, 0].plot(V_vap.index, V_vap['Vap_Sat'], marker='o')\n",
        "axs[0, 0].set_title('Specific Volume')\n",
        "axs[0, 0].set_xlabel('Pressure (kPa)')\n",
        "axs[0, 0].set_ylabel('m³/kg')\n",
        "\n",
        "axs[0, 1].plot(U_vap.index, U_vap['Vap_Sat'], marker='s')\n",
        "axs[0, 1].set_title('Internal Energy')\n",
        "axs[0, 1].set_xlabel('Pressure (kPa)')\n",
        "axs[0, 1].set_ylabel('kJ/kg')\n",
        "\n",
        "axs[1, 0].plot(H_vap.index, H_vap['Vap_Sat'], marker='^')\n",
        "axs[1, 0].set_title('Enthalpy')\n",
        "axs[1, 0].set_xlabel('Pressure (kPa)')\n",
        "axs[1, 0].set_ylabel('kJ/kg')\n",
        "\n",
        "axs[1, 1].plot(S_vap.index, S_vap['Vap_Sat'], marker='d')\n",
        "axs[1, 1].set_title('Entropy')\n",
        "axs[1, 1].set_xlabel('Pressure (kPa)')\n",
        "axs[1, 1].set_ylabel('kJ/kg·K')\n",
        "\n",
        "plt.tight_layout(rect=[0, 0.03, 1, 0.95])\n",
        "plt.show()"
      ]
    },
    {
      "cell_type": "markdown",
      "metadata": {
        "id": "SCLRji6TeQgh"
      },
      "source": [
        "### Plot the specific volume of saturated liquid between 300 kPa and 1500 kPa"
      ]
    },
    {
      "cell_type": "code",
      "execution_count": 27,
      "metadata": {
        "id": "u6DyyI7MeYgE",
        "colab": {
          "base_uri": "https://localhost:8080/",
          "height": 507
        },
        "outputId": "37275063-1d2c-4d39-f51e-fc9e0b4c5cc3"
      },
      "outputs": [
        {
          "output_type": "display_data",
          "data": {
            "text/plain": [
              "<Figure size 800x500 with 1 Axes>"
            ],
            "image/png": "[encoded data removed]"
          },
          "metadata": {}
        }
      ],
      "source": [
        "V_new= df[(df['Property'] == 'V') & (df['Pressure'] >= 300) & (df['Pressure'] <= 1500)][['Pressure', 'Liq_Sat']].sort_values('Pressure')\n",
        "plt.figure(figsize=(8, 5))\n",
        "plt.plot(V_new['Pressure'], V_new['Liq_Sat'], marker='o', color='green', linestyle='-')\n",
        "plt.title('Specific Volume of Saturated Liquid (300–1500 kPa)')\n",
        "plt.xlabel('Pressure (kPa)')\n",
        "plt.ylabel('Specific Volume (m³/kg)')\n",
        "plt.grid(True)\n",
        "plt.tight_layout()\n",
        "plt.show()"
      ]
    }
  ],
  "metadata": {
    "colab": {
      "provenance": []
    },
    "kernelspec": {
      "display_name": "Python 3 (ipykernel)",
      "language": "python",
      "name": "python3"
    },
    "language_info": {
      "codemirror_mode": {
        "name": "ipython",
        "version": 3
      },
      "file_extension": ".py",
      "mimetype": "text/x-python",
      "name": "python",
      "nbconvert_exporter": "python",
      "pygments_lexer": "ipython3",
      "version": "3.10.5"
    }
  },
  "nbformat": 4,
  "nbformat_minor": 0
}